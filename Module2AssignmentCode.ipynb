{
 "cells": [
  {
   "cell_type": "code",
   "execution_count": 1,
   "id": "479008a8-debe-4823-b22e-32730a6919fb",
   "metadata": {},
   "outputs": [],
   "source": [
    "%matplotlib inline"
   ]
  },
  {
   "cell_type": "code",
   "execution_count": 2,
   "id": "41daa642-c94c-409f-8c8a-003a17563194",
   "metadata": {},
   "outputs": [],
   "source": [
    "import json\n",
    "import random\n",
    "\n",
    "import numpy as np\n",
    "import pandas as pd\n",
    "import networkx as nx"
   ]
  },
  {
   "cell_type": "code",
   "execution_count": 3,
   "id": "4fad89df-71b6-4ce3-85be-88428003f66c",
   "metadata": {},
   "outputs": [],
   "source": [
    "g = nx.Graph() # Build the graph"
   ]
  },
  {
   "cell_type": "code",
   "execution_count": null,
   "id": "9dbf97c1-2d5e-4414-a3eb-189917d8462f",
   "metadata": {},
   "outputs": [],
   "source": [
    "with open(\"story_likes.json\", \"r\") as in_file:\n",
    "    for line in in_file:\n",
    "        \n",
    "        all_likes = json.loads(line)\n",
    "            \n",
    "        # Create a node for every Instagram profile\n",
    "        for profile in all_likes[\"story_activities_story_likes\"]['title']:\n",
    "            # add the actor to the graph\n",
    "            g.add_node(profile, name = profile)\n",
    "            \n",
    "        # Create a node for myself\n",
    "        g.add_node(name = \"orlapalesa\")\n",
    "        \n",
    "        # Iterate through the list all profile, generating an edge for each time that one of their stories is liked\n",
    "        i = 0 # Counter in the list\n",
    "        for profile in all_likes[\"story_activities_story_likes\"][\"string_list_data\"][\"timestamp\"]:\n",
    "                g.add_edge(\"orlapalesa\", profile)\n",
    "                \n",
    "                # Print edges\n",
    "                print(\"orlapalesa\", \"->\", profile)\n",
    "                \n",
    "            i += 1 # increment the counter"
   ]
  },
  {
   "cell_type": "code",
   "execution_count": null,
   "id": "9132f483-5ea7-4780-990a-1e89a837abef",
   "metadata": {},
   "outputs": [],
   "source": [
    "print(\"Nodes:\", len(g.nodes))"
   ]
  },
  {
   "cell_type": "code",
   "execution_count": null,
   "id": "b90b3052-d0a6-46be-8b44-4a47a193b763",
   "metadata": {},
   "outputs": [],
   "source": [
    "nx.write_graphml(g, \"actors.graphml\")"
   ]
  },
  {
   "cell_type": "code",
   "execution_count": null,
   "id": "ae2f0854-85af-442a-b383-25270628b5e0",
   "metadata": {},
   "outputs": [],
   "source": [
    "centrality_degree = nx.degree_centrality(g)\n",
    "top_k = 3 # how many of the most central nodes to print\n",
    "for u in sorted(centrality_degree, key=centrality_degree.get,reverse=True)[:top_k]:\n",
    "    print(u,g.nodes[u]['name'],centrality_degree[u])"
   ]
  }
 ],
 "metadata": {
  "kernelspec": {
   "display_name": "Python 3 (ipykernel)",
   "language": "python",
   "name": "python3"
  },
  "language_info": {
   "codemirror_mode": {
    "name": "ipython",
    "version": 3
   },
   "file_extension": ".py",
   "mimetype": "text/x-python",
   "name": "python",
   "nbconvert_exporter": "python",
   "pygments_lexer": "ipython3",
   "version": "3.8.10"
  }
 },
 "nbformat": 4,
 "nbformat_minor": 5
}
